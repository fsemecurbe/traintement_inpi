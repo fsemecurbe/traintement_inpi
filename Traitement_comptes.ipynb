{
 "cells": [
  {
   "cell_type": "code",
   "execution_count": 1,
   "id": "919ad348-d432-47a2-842f-029a49462063",
   "metadata": {},
   "outputs": [],
   "source": [
    "import pandas as pd\n",
    "import json\n",
    "import zipfile\n",
    "import numpy as np\n",
    "import progressbar\n",
    "import os\n",
    "import pprint"
   ]
  },
  {
   "cell_type": "code",
   "execution_count": 111,
   "id": "26d280db-55a8-4f72-aafd-1b62d0dbae26",
   "metadata": {},
   "outputs": [],
   "source": [
    "def extraction_lien3(data):\n",
    "    liens = []\n",
    "    for ent in data:\n",
    "\n",
    "\n",
    "        #personne morale\n",
    "        if ent['formality']['content'].get('natureCessation') is None:\n",
    "            if  ent['formality']['content'].get('personneMorale'):\n",
    "                if ent['formality']['content']['personneMorale'].get('composition'):\n",
    "                    pouvoirs = ent['formality']['content']['personneMorale']['composition']['pouvoirs']\n",
    "                    lien = []\n",
    "                    for item in pouvoirs: \n",
    "                        if item.get('typeDePersonne'):\n",
    "                            if item['typeDePersonne'] == \"INDIVIDU\":\n",
    "                                filter_item = item['individu']['descriptionPersonne']\n",
    "                            else:\n",
    "                                if item.get('entreprise'):\n",
    "                                    if item.get('adresseEntreprise'):\n",
    "                                        filter_item = item['entreprise']|item['adresseEntreprise']\n",
    "                                    else:\n",
    "                                        filter_item = item['entreprise']\n",
    "                                else:\n",
    "                                    if item.get('adresseEntreprise'):\n",
    "                                        filter_item = item['adresseEntreprise']\n",
    "                                    else:\n",
    "                                        filter_item = {}\n",
    "                            lien.append(filter_item)\n",
    "                        else:\n",
    "                            lien.append({})\n",
    "                        \n",
    "                    lien = pd.DataFrame(lien)\n",
    "                    lien.columns = ['personneMorale.' + col for col in lien.columns]\n",
    "                    lien['siren'] = ent['siren']\n",
    "\n",
    "                    \n",
    "                    liens.append(lien)\n",
    "\n",
    "            #personne physique\n",
    "            if ent['formality']['content'].get('personnePhysique'):           \n",
    "                if not ent['formality']['content']['personnePhysique'].get('detailCessationEntreprise'):\n",
    "                    if ent['formality']['content']['personnePhysique'].get('identite'):\n",
    "                        if ent['formality']['content']['personnePhysique']['identite'].get('entrepreneur'):\n",
    "                            if ent['formality']['content']['personnePhysique']['identite']['entrepreneur'].get('descriptionPersonne'):\n",
    "                                temp = ent['formality']['content']['personnePhysique']['identite']['entrepreneur']['descriptionPersonne']\n",
    "                                try :\n",
    "                                    lien = pd.DataFrame([temp])\n",
    "                                except:\n",
    "                                    lien = pd.DataFrame(temp,[0])\n",
    "                                lien.columns = ['personnePhysique.' + col for col in lien.columns]\n",
    "                    else:\n",
    "                        lien = pd.DataFrame()\n",
    "                    \n",
    "                    lien['siren'] = ent['siren']\n",
    "\n",
    "                    liens.append(lien)\n",
    "        \n",
    "       \n",
    "    return(pd.concat(liens, join='outer'))"
   ]
  },
  {
   "cell_type": "markdown",
   "id": "675ee993-e2a9-469a-ae6d-602391ac85e8",
   "metadata": {},
   "source": [
    "#### lancement unitaire"
   ]
  },
  {
   "cell_type": "code",
   "execution_count": 119,
   "id": "75f184c9-6851-4d3e-8d2d-4b57db35c521",
   "metadata": {},
   "outputs": [],
   "source": [
    "list_file = os.listdir('formalite')"
   ]
  },
  {
   "cell_type": "code",
   "execution_count": 120,
   "id": "cfa0b47f-c8f0-404d-9811-a8bcf4f8d285",
   "metadata": {},
   "outputs": [
    {
     "name": "stderr",
     "output_type": "stream",
     "text": [
      "\u001b[38;2;0;255;0m100%\u001b[39m \u001b[38;2;0;255;0m(5 of 5)\u001b[39m |##########################| Elapsed Time: 0:00:18 Time:  0:00:180:03\n"
     ]
    }
   ],
   "source": [
    "list_file = list_file[5:10]\n",
    "\n",
    "liste_liens = []\n",
    "with progressbar.ProgressBar(max_value=len(list_file)) as bar:\n",
    "    for i, file in enumerate(list_file):\n",
    "        data = open('formalite/'+file, encoding='utf8')\n",
    "        data = json.load(data)\n",
    "        liens = extraction_lien3(data)\n",
    "        liens = liens[[col for col in liens.columns if not \"Present\" in col]]\n",
    "        liste_liens.append(liens) \n",
    "        bar.update(i + 1)"
   ]
  },
  {
   "cell_type": "code",
   "execution_count": 100,
   "id": "78cdd511-3581-4ac5-b023-0897bbd069c2",
   "metadata": {},
   "outputs": [],
   "source": [
    "reseau = pd.concat(liste_liens, join='outer').reset_index().drop(columns=['index'])"
   ]
  },
  {
   "cell_type": "code",
   "execution_count": 156,
   "id": "6c1333d1-4324-496f-b715-eeaf64b88867",
   "metadata": {},
   "outputs": [],
   "source": [
    "#reseau.to_parquet('liens_entreprise.parquet', index=False)"
   ]
  },
  {
   "cell_type": "markdown",
   "id": "1decc2e0-5f3f-4136-a6de-8e9db6c11d40",
   "metadata": {},
   "source": [
    "#### bouclage"
   ]
  },
  {
   "cell_type": "code",
   "execution_count": 121,
   "id": "b7dbe452-89a6-4cbc-be9e-b10cbf86736a",
   "metadata": {},
   "outputs": [],
   "source": [
    "list_file = os.listdir('formalite')"
   ]
  },
  {
   "cell_type": "code",
   "execution_count": 127,
   "id": "9b496484-9b73-4245-af1f-77816c3dbbd4",
   "metadata": {},
   "outputs": [],
   "source": [
    "def traitement(list_file):\n",
    "    liste_liens = []\n",
    "    with progressbar.ProgressBar(max_value=len(list_file)) as bar:\n",
    "        for i, file in enumerate(list_file):\n",
    "            data = open('formalite/'+file, encoding='utf8')\n",
    "            data = json.load(data)\n",
    "            liens = extraction_lien3(data)\n",
    "            liens = liens[[col for col in liens.columns if not \"Present\" in col]]\n",
    "            liste_liens.append(liens) \n",
    "            bar.update(i + 1)\n",
    "    return(pd.concat(liste_liens, join='outer').reset_index().drop(columns=['index']))"
   ]
  },
  {
   "cell_type": "code",
   "execution_count": 123,
   "id": "31efe793-66ce-48be-a14e-b919a5d99fec",
   "metadata": {},
   "outputs": [
    {
     "name": "stderr",
     "output_type": "stream",
     "text": [
      "\u001b[38;2;0;255;0m100%\u001b[39m \u001b[38;2;0;255;0m(1000 of 1000)\u001b[39m |####################| Elapsed Time: 3:01:38 Time:  3:01:383716\n"
     ]
    }
   ],
   "source": [
    "traitement1 = traitement(list_file[:1000])\n",
    "traitement1.to_parquet('liens_entreprise1.parquet', index=False)"
   ]
  },
  {
   "cell_type": "code",
   "execution_count": 128,
   "id": "2d6e2f4c-c39b-4e63-a2fd-77ea2656b28d",
   "metadata": {},
   "outputs": [
    {
     "name": "stderr",
     "output_type": "stream",
     "text": [
      "\u001b[38;2;0;255;0m100%\u001b[39m \u001b[38;2;0;255;0m(1000 of 1000)\u001b[39m |####################| Elapsed Time: 4:35:49 Time:  4:35:492806\n"
     ]
    }
   ],
   "source": [
    "traitement2 = traitement(list_file[1000:2000])\n",
    "traitement2.to_parquet('liens_entreprise2.parquet', index=False)"
   ]
  },
  {
   "cell_type": "code",
   "execution_count": 129,
   "id": "adf97ca5-6084-46aa-a1be-3d314c0d6be1",
   "metadata": {},
   "outputs": [
    {
     "name": "stderr",
     "output_type": "stream",
     "text": [
      "\u001b[38;2;0;255;0m100%\u001b[39m \u001b[38;2;0;255;0m(604 of 604)\u001b[39m |######################| Elapsed Time: 4:19:26 Time:  4:19:260916\n"
     ]
    }
   ],
   "source": [
    "traitement3 = traitement(list_file[2000:])\n",
    "traitement3.to_parquet('liens_entreprise3.parquet', index=False)"
   ]
  },
  {
   "cell_type": "code",
   "execution_count": 4,
   "id": "f88c6e8b-10bf-45e9-a94d-cd2f9dd09e47",
   "metadata": {},
   "outputs": [],
   "source": [
    "temp = []\n",
    "for i in range(1,4):\n",
    "    temp.append(pd.read_parquet(f'liens_entreprise{str(i)}.parquet') )"
   ]
  },
  {
   "cell_type": "code",
   "execution_count": 5,
   "id": "2b36b95c-6754-4f46-bd09-1ebec0b00a25",
   "metadata": {},
   "outputs": [],
   "source": [
    "lien = pd.concat(temp)"
   ]
  },
  {
   "cell_type": "code",
   "execution_count": 7,
   "id": "a4a7e133-6e14-430f-87ff-118ce590f9f3",
   "metadata": {},
   "outputs": [],
   "source": [
    "lien.to_parquet('lien_entreprise_20250403.parquet')"
   ]
  },
  {
   "cell_type": "markdown",
   "id": "3623ca5e-46a1-4369-a085-3e22ae0b20d4",
   "metadata": {},
   "source": [
    "#### Analyse"
   ]
  },
  {
   "cell_type": "code",
   "execution_count": 2,
   "id": "8b6883bf-7e68-45be-b796-5ab3561be0f9",
   "metadata": {},
   "outputs": [],
   "source": [
    "lien = pd.read_parquet('lien_entreprise_20250403.parquet')"
   ]
  },
  {
   "cell_type": "code",
   "execution_count": 4,
   "id": "14788733-4e62-459d-adae-a9395438cc48",
   "metadata": {},
   "outputs": [
    {
     "data": {
      "text/plain": [
       "Index(['personnePhysique.dateDeNaissance', 'personnePhysique.nom',\n",
       "       'personnePhysique.prenoms', 'personnePhysique.nomUsage',\n",
       "       'personnePhysique.nationalite', 'personnePhysique.codeNationalite',\n",
       "       'personnePhysique.situationMatrimoniale', 'personnePhysique.siren',\n",
       "       'siren', 'personneMorale.dateDeNaissance', 'personneMorale.role',\n",
       "       'personneMorale.nom', 'personneMorale.prenoms',\n",
       "       'personneMorale.nationalite', 'personneMorale.codeNationalite',\n",
       "       'personneMorale.situationMatrimoniale', 'personneMorale.nomUsage',\n",
       "       'personnePhysique.genre', 'personneMorale.roleEntreprise',\n",
       "       'personneMorale.denomination', 'personneMorale.formeJuridique',\n",
       "       'personneMorale.pays', 'personneMorale.codePays',\n",
       "       'personneMorale.codePostal', 'personneMorale.commune',\n",
       "       'personneMorale.codeInseeCommune', 'personneMorale.voie',\n",
       "       'personneMorale.siren', 'personneMorale.genre',\n",
       "       'personneMorale.complementLocalisation', 'personneMorale.lieuRegistre',\n",
       "       'personneMorale.typeVoie', 'personneMorale.numVoie',\n",
       "       'personnePhysique.indicateurDeNonSedentarite',\n",
       "       'personneMorale.dateEffetRoleDeclarant',\n",
       "       'personneMorale.indiceRepetition', 'personneMorale.pseudonyme',\n",
       "       'personneMorale.cedex', 'personnePhysique.pseudonyme',\n",
       "       'personneMorale.titre', 'personnePhysique.titre',\n",
       "       'personneMorale.distributionSpeciale',\n",
       "       'personneMorale.autreIdentifiantEtranger',\n",
       "       'personneMorale.empriseAeroport', 'personneMorale.numRna',\n",
       "       'personnePhysique.role', 'personnePhysique.qualiteDeNonSedentarite',\n",
       "       'personneMorale.entrepriseCompleted',\n",
       "       'personneMorale.entrepriseCorrected', 'personnePhysique.optionEirl',\n",
       "       'personneMorale.caracteristiques', 'personneMorale.forCodePostal',\n",
       "       'personneMorale.forCommune', 'personneMorale.forCodeCommune',\n",
       "       'personnePhysique.dateEffetRoleDeclarant', 'personneMorale.codeApe',\n",
       "       'personneMorale.communeAncienne',\n",
       "       'personneMorale.communeDeRattachement', 'personneMorale.numDetenteur',\n",
       "       'personneMorale.numExploitant'],\n",
       "      dtype='object')"
      ]
     },
     "execution_count": 4,
     "metadata": {},
     "output_type": "execute_result"
    }
   ],
   "source": [
    "lien.columns"
   ]
  },
  {
   "cell_type": "code",
   "execution_count": 3,
   "id": "9fcbac36-4cf2-456c-9448-a024125ba189",
   "metadata": {},
   "outputs": [
    {
     "data": {
      "text/html": [
       "<div>\n",
       "<style scoped>\n",
       "    .dataframe tbody tr th:only-of-type {\n",
       "        vertical-align: middle;\n",
       "    }\n",
       "\n",
       "    .dataframe tbody tr th {\n",
       "        vertical-align: top;\n",
       "    }\n",
       "\n",
       "    .dataframe thead th {\n",
       "        text-align: right;\n",
       "    }\n",
       "</style>\n",
       "<table border=\"1\" class=\"dataframe\">\n",
       "  <thead>\n",
       "    <tr style=\"text-align: right;\">\n",
       "      <th></th>\n",
       "      <th>personnePhysique.dateDeNaissance</th>\n",
       "      <th>personnePhysique.nom</th>\n",
       "      <th>personnePhysique.prenoms</th>\n",
       "      <th>personnePhysique.nomUsage</th>\n",
       "      <th>personnePhysique.nationalite</th>\n",
       "      <th>personnePhysique.codeNationalite</th>\n",
       "      <th>personnePhysique.situationMatrimoniale</th>\n",
       "      <th>personnePhysique.siren</th>\n",
       "      <th>siren</th>\n",
       "      <th>personneMorale.dateDeNaissance</th>\n",
       "      <th>...</th>\n",
       "      <th>personneMorale.caracteristiques</th>\n",
       "      <th>personneMorale.forCodePostal</th>\n",
       "      <th>personneMorale.forCommune</th>\n",
       "      <th>personneMorale.forCodeCommune</th>\n",
       "      <th>personnePhysique.dateEffetRoleDeclarant</th>\n",
       "      <th>personneMorale.codeApe</th>\n",
       "      <th>personneMorale.communeAncienne</th>\n",
       "      <th>personneMorale.communeDeRattachement</th>\n",
       "      <th>personneMorale.numDetenteur</th>\n",
       "      <th>personneMorale.numExploitant</th>\n",
       "    </tr>\n",
       "  </thead>\n",
       "  <tbody>\n",
       "    <tr>\n",
       "      <th>7831860</th>\n",
       "      <td>None</td>\n",
       "      <td>None</td>\n",
       "      <td>None</td>\n",
       "      <td>None</td>\n",
       "      <td>None</td>\n",
       "      <td>None</td>\n",
       "      <td>None</td>\n",
       "      <td>None</td>\n",
       "      <td>878990365</td>\n",
       "      <td>1971-02</td>\n",
       "      <td>...</td>\n",
       "      <td>None</td>\n",
       "      <td>None</td>\n",
       "      <td>None</td>\n",
       "      <td>None</td>\n",
       "      <td>None</td>\n",
       "      <td>None</td>\n",
       "      <td>None</td>\n",
       "      <td>None</td>\n",
       "      <td>NaN</td>\n",
       "      <td>NaN</td>\n",
       "    </tr>\n",
       "    <tr>\n",
       "      <th>7831861</th>\n",
       "      <td>None</td>\n",
       "      <td>None</td>\n",
       "      <td>None</td>\n",
       "      <td>None</td>\n",
       "      <td>None</td>\n",
       "      <td>None</td>\n",
       "      <td>None</td>\n",
       "      <td>None</td>\n",
       "      <td>878990365</td>\n",
       "      <td>1971-05</td>\n",
       "      <td>...</td>\n",
       "      <td>None</td>\n",
       "      <td>None</td>\n",
       "      <td>None</td>\n",
       "      <td>None</td>\n",
       "      <td>None</td>\n",
       "      <td>None</td>\n",
       "      <td>None</td>\n",
       "      <td>None</td>\n",
       "      <td>NaN</td>\n",
       "      <td>NaN</td>\n",
       "    </tr>\n",
       "  </tbody>\n",
       "</table>\n",
       "<p>2 rows × 60 columns</p>\n",
       "</div>"
      ],
      "text/plain": [
       "        personnePhysique.dateDeNaissance personnePhysique.nom  \\\n",
       "7831860                             None                 None   \n",
       "7831861                             None                 None   \n",
       "\n",
       "        personnePhysique.prenoms personnePhysique.nomUsage  \\\n",
       "7831860                     None                      None   \n",
       "7831861                     None                      None   \n",
       "\n",
       "        personnePhysique.nationalite personnePhysique.codeNationalite  \\\n",
       "7831860                         None                             None   \n",
       "7831861                         None                             None   \n",
       "\n",
       "        personnePhysique.situationMatrimoniale personnePhysique.siren  \\\n",
       "7831860                                   None                   None   \n",
       "7831861                                   None                   None   \n",
       "\n",
       "             siren personneMorale.dateDeNaissance  ...  \\\n",
       "7831860  878990365                        1971-02  ...   \n",
       "7831861  878990365                        1971-05  ...   \n",
       "\n",
       "        personneMorale.caracteristiques personneMorale.forCodePostal  \\\n",
       "7831860                            None                         None   \n",
       "7831861                            None                         None   \n",
       "\n",
       "        personneMorale.forCommune personneMorale.forCodeCommune  \\\n",
       "7831860                      None                          None   \n",
       "7831861                      None                          None   \n",
       "\n",
       "        personnePhysique.dateEffetRoleDeclarant personneMorale.codeApe  \\\n",
       "7831860                                    None                   None   \n",
       "7831861                                    None                   None   \n",
       "\n",
       "        personneMorale.communeAncienne personneMorale.communeDeRattachement  \\\n",
       "7831860                           None                                 None   \n",
       "7831861                           None                                 None   \n",
       "\n",
       "        personneMorale.numDetenteur personneMorale.numExploitant  \n",
       "7831860                         NaN                          NaN  \n",
       "7831861                         NaN                          NaN  \n",
       "\n",
       "[2 rows x 60 columns]"
      ]
     },
     "execution_count": 3,
     "metadata": {},
     "output_type": "execute_result"
    }
   ],
   "source": [
    "lien[lien.siren=='878990365']"
   ]
  }
 ],
 "metadata": {
  "kernelspec": {
   "display_name": "Python 3 (ipykernel)",
   "language": "python",
   "name": "python3"
  },
  "language_info": {
   "codemirror_mode": {
    "name": "ipython",
    "version": 3
   },
   "file_extension": ".py",
   "mimetype": "text/x-python",
   "name": "python",
   "nbconvert_exporter": "python",
   "pygments_lexer": "ipython3",
   "version": "3.12.7"
  }
 },
 "nbformat": 4,
 "nbformat_minor": 5
}
